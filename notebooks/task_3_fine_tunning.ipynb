{
 "cells": [
  {
   "cell_type": "code",
   "execution_count": null,
   "id": "7952304d",
   "metadata": {
    "vscode": {
     "languageId": "plaintext"
    }
   },
   "outputs": [],
   "source": [
    "import os\n",
    "import numpy as np\n",
    "from datasets import Dataset, DatasetDict, load_dataset\n",
    "from transformers import AutoTokenizer, AutoModelForTokenClassification, TrainingArguments, Trainer, DataCollatorForTokenClassification\n",
    "import evaluate"
   ]
  },
  {
   "cell_type": "code",
   "execution_count": null,
   "id": "0c5998b4",
   "metadata": {
    "vscode": {
     "languageId": "plaintext"
    }
   },
   "outputs": [],
   "source": [
    "# Configuration\n",
    "GDRIVE_PROJECT_PATH = '/content/drive/MyDrive/Ethio_mart'\n",
    "LABELED_DATA_PATH = os.path.join(GDRIVE_PROJECT_PATH, 'labeled_data_conll.txt')\n",
    "OUTPUT_MODEL_DIR = os.path.join(GDRIVE_PROJECT_PATH, 'models', 'xlm-roberta-ner-amharic')\n",
    "MODEL_CHECKPOINT = \"xlm-roberta-base\""
   ]
  },
  {
   "cell_type": "code",
   "execution_count": null,
   "id": "3ba1e763",
   "metadata": {
    "vscode": {
     "languageId": "plaintext"
    }
   },
   "outputs": [],
   "source": [
    "# Define labels\n",
    "labels_list = ['O', 'B-PRODUCT', 'I-PRODUCT', 'B-LOC', 'I-LOC', 'B-PRICE', 'I-PRICE']\n",
    "label2id = {label: i for i, label in enumerate(labels_list)}\n",
    "id2label = {i: label for i, label in enumerate(labels_list)}\n",
    "\n",
    "def create_dataset_from_conll(file_path):\n",
    "    \"\"\"Parse CoNLL file and create a Hugging Face Dataset.\"\"\"\n",
    "    tokens_list, tags_list = [], []\n",
    "    current_tokens, current_tags = [], []\n",
    "\n",
    "    with open(file_path, 'r', encoding='utf-8') as f:\n",
    "        for line in f:\n",
    "            line = line.strip()\n",
    "            if line == \"\":\n",
    "                if current_tokens:\n",
    "                    tokens_list.append(current_tokens)\n",
    "                    tags_list.append(current_tags)\n",
    "                    current_tokens, current_tags = [], []\n",
    "            else:\n",
    "                parts = line.split()\n",
    "                current_tokens.append(parts[0])\n",
    "                current_tags.append(label2id[parts[1]])\n",
    "\n",
    "    if current_tokens:\n",
    "        tokens_list.append(current_tokens)\n",
    "        tags_list.append(current_tags)\n",
    "\n",
    "    return Dataset.from_dict({'tokens': tokens_list, 'ner_tags': tags_list})"
   ]
  },
  {
   "cell_type": "code",
   "execution_count": null,
   "id": "a30361eb",
   "metadata": {
    "vscode": {
     "languageId": "plaintext"
    }
   },
   "outputs": [],
   "source": [
    "def tokenize_and_align_labels(examples, tokenizer):\n",
    "    \"\"\"Tokenize inputs and align NER labels with tokens.\"\"\"\n",
    "    tokenized_inputs = tokenizer(examples[\"tokens\"], truncation=True, is_split_into_words=True)\n",
    "    labels = []\n",
    "    for i, label in enumerate(examples[\"ner_tags\"]):\n",
    "        word_ids = tokenized_inputs.word_ids(batch_index=i)\n",
    "        previous_word_idx = None\n",
    "        label_ids = []\n",
    "        for word_idx in word_ids:\n",
    "            if word_idx is None:\n",
    "                label_ids.append(-100)\n",
    "            elif word_idx != previous_word_idx:\n",
    "                label_ids.append(label[word_idx])\n",
    "            else:\n",
    "                label_ids.append(-100)\n",
    "            previous_word_idx = word_idx\n",
    "        labels.append(label_ids)\n",
    "    tokenized_inputs[\"labels\"] = labels\n",
    "    return tokenized_inputs"
   ]
  },
  {
   "cell_type": "code",
   "execution_count": null,
   "id": "28cedae9",
   "metadata": {
    "vscode": {
     "languageId": "plaintext"
    }
   },
   "outputs": [],
   "source": [
    "def compute_metrics(p):\n",
    "    \"\"\"Compute evaluation metrics using seqeval.\"\"\"\n",
    "    predictions, labels = p\n",
    "    predictions = np.argmax(predictions, axis=2)\n",
    "    true_predictions = [\n",
    "        [labels_list[p] for (p, l) in zip(prediction, label) if l != -100]\n",
    "        for prediction, label in zip(predictions, labels)\n",
    "    ]\n",
    "    true_labels = [\n",
    "        [labels_list[l] for (p, l) in zip(prediction, label) if l != -100]\n",
    "        for prediction, label in zip(predictions, labels)\n",
    "    ]\n",
    "    metric = evaluate.load(\"seqeval\")\n",
    "    results = metric.compute(predictions=true_predictions, references=true_labels)\n",
    "    return {\n",
    "        \"precision\": results[\"overall_precision\"],\n",
    "        \"recall\": results[\"overall_recall\"],\n",
    "        \"f1\": results[\"overall_f1\"],\n",
    "        \"accuracy\": results[\"overall_accuracy\"],\n",
    "    }"
   ]
  },
  {
   "cell_type": "code",
   "execution_count": null,
   "id": "853a3ff0",
   "metadata": {
    "vscode": {
     "languageId": "plaintext"
    }
   },
   "outputs": [],
   "source": [
    "def main():\n",
    "    # Check if data exists\n",
    "    if not os.path.exists(LABELED_DATA_PATH):\n",
    "        raise FileNotFoundError(f\"Data file not found at {LABELED_DATA_PATH}\")\n",
    "\n",
    "    # Load and split dataset\n",
    "    full_dataset = create_dataset_from_conll(LABELED_DATA_PATH)\n",
    "    train_test_split = full_dataset.train_test_split(test_size=0.2, seed=42)\n",
    "    final_dataset = DatasetDict({\n",
    "        'train': train_test_split['train'],\n",
    "        'test': train_test_split['test']\n",
    "    })\n",
    "\n",
    "    # Load tokenizer and tokenize dataset\n",
    "    tokenizer = AutoTokenizer.from_pretrained(MODEL_CHECKPOINT)\n",
    "    tokenized_datasets = final_dataset.map(lambda x: tokenize_and_align_labels(x, tokenizer), batched=True)\n",
    "\n",
    "    # Load model\n",
    "    model = AutoModelForTokenClassification.from_pretrained(\n",
    "        MODEL_CHECKPOINT,\n",
    "        num_labels=len(labels_list),\n",
    "        id2label=id2label,\n",
    "        label2id=label2id\n",
    "    )\n",
    "\n",
    "    # Training arguments\n",
    "    args = TrainingArguments(\n",
    "        output_dir=OUTPUT_MODEL_DIR,\n",
    "        evaluation_strategy=\"epoch\",\n",
    "        learning_rate=2e-5,\n",
    "        per_device_train_batch_size=16,\n",
    "        per_device_eval_batch_size=16,\n",
    "        num_train_epochs=5,\n",
    "        weight_decay=0.01,\n",
    "        save_strategy=\"epoch\",\n",
    "        load_best_model_at_end=True,\n",
    "        metric_for_best_model=\"f1\",\n",
    "    )\n",
    "\n",
    "    # Data collator\n",
    "    data_collator = DataCollatorForTokenClassification(tokenizer)\n",
    "\n",
    "    # Initialize trainer\n",
    "    trainer = Trainer(\n",
    "        model=model,\n",
    "        args=args,\n",
    "        train_dataset=tokenized_datasets[\"train\"],\n",
    "        eval_dataset=tokenized_datasets[\"test\"],\n",
    "        data_collator=data_collator,\n",
    "        tokenizer=tokenizer,\n",
    "        compute_metrics=compute_metrics\n",
    "    )\n",
    "\n",
    "    # Train and evaluate\n",
    "    print(\"Starting model training...\")\n",
    "    trainer.train()\n",
    "    print(\"Training complete.\")\n",
    "    final_evaluation = trainer.evaluate()\n",
    "    print(\"Final evaluation results:\", final_evaluation)\n",
    "\n",
    "    # Save model and tokenizer\n",
    "    trainer.save_model(OUTPUT_MODEL_DIR)\n",
    "    tokenizer.save_pretrained(OUTPUT_MODEL_DIR)\n",
    "    print(f\"Model saved to {OUTPUT_MODEL_DIR}\")\n",
    "\n",
    "if __name__ == \"__main__\":\n",
    "    main()"
   ]
  }
 ],
 "metadata": {
  "language_info": {
   "name": "python"
  }
 },
 "nbformat": 4,
 "nbformat_minor": 5
}
